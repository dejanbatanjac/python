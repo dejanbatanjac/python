{
  "nbformat": 4,
  "nbformat_minor": 0,
  "metadata": {
    "colab": {
      "name": "NIZ",
      "version": "0.3.2",
      "provenance": [],
      "collapsed_sections": [],
      "include_colab_link": true
    },
    "kernelspec": {
      "name": "python3",
      "display_name": "Python 3"
    }
  },
  "cells": [
    {
      "cell_type": "markdown",
      "metadata": {
        "id": "view-in-github",
        "colab_type": "text"
      },
      "source": [
        "<a href=\"https://colab.research.google.com/github/matapro/python/blob/master/NIZ.ipynb\" target=\"_parent\"><img src=\"https://colab.research.google.com/assets/colab-badge.svg\" alt=\"Open In Colab\"/></a>"
      ]
    },
    {
      "metadata": {
        "id": "5DtCZKrIpWKT",
        "colab_type": "code",
        "colab": {
          "base_uri": "https://localhost:8080/",
          "height": 34
        },
        "outputId": "e129d19a-0b4e-497a-b0af-b8d8ff6b30b9"
      },
      "cell_type": "code",
      "source": [
        "def s(i):\n",
        "  s=0\n",
        "  for x in range(1,i+1):\n",
        "    s=s+1/x\n",
        "  return(s) \n",
        "  \n",
        "  \n",
        "  \n",
        "print(s(4))\n",
        "    \n",
        "        \n",
        "        \n",
        "        \n",
        "\n"
      ],
      "execution_count": 17,
      "outputs": [
        {
          "output_type": "stream",
          "text": [
            "2.083333333333333\n"
          ],
          "name": "stdout"
        }
      ]
    }
  ]
}