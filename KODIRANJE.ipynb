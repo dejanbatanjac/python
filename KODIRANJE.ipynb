{
  "nbformat": 4,
  "nbformat_minor": 0,
  "metadata": {
    "colab": {
      "name": "KODIRANJE",
      "version": "0.3.2",
      "provenance": [],
      "collapsed_sections": [],
      "include_colab_link": true
    },
    "kernelspec": {
      "name": "python3",
      "display_name": "Python 3"
    }
  },
  "cells": [
    {
      "cell_type": "markdown",
      "metadata": {
        "id": "view-in-github",
        "colab_type": "text"
      },
      "source": [
        "<a href=\"https://colab.research.google.com/github/matapro/python/blob/master/KODIRANJE.ipynb\" target=\"_parent\"><img src=\"https://colab.research.google.com/assets/colab-badge.svg\" alt=\"Open In Colab\"/></a>"
      ]
    },
    {
      "metadata": {
        "id": "e1ww8Vr8UM_b",
        "colab_type": "code",
        "colab": {
          "base_uri": "https://localhost:8080/",
          "height": 51
        },
        "outputId": "6285996d-8b19-405c-ff86-6af46689de85"
      },
      "cell_type": "code",
      "source": [
        "a='maki'\n",
        "b=''\n",
        "l=list(a)\n",
        "print(l)\n",
        "for x in l:\n",
        "  b=b+chr(ord(x)+1)\n",
        "    \n",
        "print(b) \n",
        "  \n"
      ],
      "execution_count": 60,
      "outputs": [
        {
          "output_type": "stream",
          "text": [
            "['m', 'a', 'k', 'i']\n",
            "nblj\n"
          ],
          "name": "stdout"
        }
      ]
    },
    {
      "metadata": {
        "id": "ym2sCLqKumGQ",
        "colab_type": "code",
        "colab": {
          "base_uri": "https://localhost:8080/",
          "height": 51
        },
        "outputId": "2330b766-9657-40cd-f172-7ab844a5ec4c"
      },
      "cell_type": "code",
      "source": [
        "print(ord('a')+1)\n",
        "print(chr(ord('a')+1))"
      ],
      "execution_count": 41,
      "outputs": [
        {
          "output_type": "stream",
          "text": [
            "98\n",
            "b\n"
          ],
          "name": "stdout"
        }
      ]
    }
  ]
}