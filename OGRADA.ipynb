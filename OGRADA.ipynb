{
  "nbformat": 4,
  "nbformat_minor": 0,
  "metadata": {
    "colab": {
      "name": "OGRADA",
      "version": "0.3.2",
      "provenance": [],
      "include_colab_link": true
    },
    "kernelspec": {
      "name": "python3",
      "display_name": "Python 3"
    }
  },
  "cells": [
    {
      "cell_type": "markdown",
      "metadata": {
        "id": "view-in-github",
        "colab_type": "text"
      },
      "source": [
        "<a href=\"https://colab.research.google.com/github/matapro/python/blob/master/OGRADA.ipynb\" target=\"_parent\"><img src=\"https://colab.research.google.com/assets/colab-badge.svg\" alt=\"Open In Colab\"/></a>"
      ]
    },
    {
      "metadata": {
        "id": "o_d8EBpBruA0",
        "colab_type": "code",
        "outputId": "65b298bf-210c-46bd-a3cb-ec4ae22362d1",
        "colab": {
          "base_uri": "https://localhost:8080/",
          "height": 34
        }
      },
      "cell_type": "code",
      "source": [
        "def zad(o,s,d):\n",
        "  o=3\n",
        "  s=60\n",
        "  d=100\n",
        "  _1=s*2+d*2+8*a\n",
        "  return(_1)\n",
        "  \n",
        "print(zad(3,60,100))  \n"
      ],
      "execution_count": 11,
      "outputs": [
        {
          "output_type": "stream",
          "text": [
            "344\n"
          ],
          "name": "stdout"
        }
      ]
    }
  ]
}