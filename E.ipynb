{
  "nbformat": 4,
  "nbformat_minor": 0,
  "metadata": {
    "colab": {
      "name": "E",
      "version": "0.3.2",
      "provenance": [],
      "collapsed_sections": [],
      "include_colab_link": true
    },
    "kernelspec": {
      "name": "python3",
      "display_name": "Python 3"
    }
  },
  "cells": [
    {
      "cell_type": "markdown",
      "metadata": {
        "id": "view-in-github",
        "colab_type": "text"
      },
      "source": [
        "<a href=\"https://colab.research.google.com/github/matapro/python/blob/master/E.ipynb\" target=\"_parent\"><img src=\"https://colab.research.google.com/assets/colab-badge.svg\" alt=\"Open In Colab\"/></a>"
      ]
    },
    {
      "metadata": {
        "id": "6aghfkmzhtYQ",
        "colab_type": "code",
        "outputId": "1d5f7f27-8bfd-4c0a-f49c-16dae30bfa21",
        "colab": {
          "base_uri": "https://localhost:8080/",
          "height": 34
        }
      },
      "cell_type": "code",
      "source": [
        "import math  \n",
        "def e(i):\n",
        "  s=0\n",
        "  for x in range(0,i+1):\n",
        "    s=s+1/math.factorial(x)\n",
        "  return(s)  \n",
        "    \n",
        "        \n",
        "        \n",
        "        \n",
        "\n",
        "print(e(20))\n"
      ],
      "execution_count": 34,
      "outputs": [
        {
          "output_type": "stream",
          "text": [
            "2.7182818284590455\n"
          ],
          "name": "stdout"
        }
      ]
    },
    {
      "metadata": {
        "id": "N5iMtlAW-Kdu",
        "colab_type": "code",
        "colab": {
          "base_uri": "https://localhost:8080/",
          "height": 34
        },
        "outputId": "6fd85aa8-60a2-4b39-f095-289c63a34cea"
      },
      "cell_type": "code",
      "source": [
        "import math  \n",
        "def p(i):\n",
        "  s=0\n",
        "  for x in range(1,i+1):\n",
        "    s=s+1/((math.factorial(x+1))-math.factorial(x))\n",
        "  return(s)  \n",
        "    \n",
        "        \n",
        "        \n",
        "        \n",
        "\n",
        "print(p(100))"
      ],
      "execution_count": 59,
      "outputs": [
        {
          "output_type": "stream",
          "text": [
            "1.317902151454404\n"
          ],
          "name": "stdout"
        }
      ]
    }
  ]
}