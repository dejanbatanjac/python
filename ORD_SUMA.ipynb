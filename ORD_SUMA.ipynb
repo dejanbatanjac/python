{
  "nbformat": 4,
  "nbformat_minor": 0,
  "metadata": {
    "colab": {
      "name": "ORD SUMA",
      "version": "0.3.2",
      "provenance": [],
      "collapsed_sections": [],
      "include_colab_link": true
    },
    "kernelspec": {
      "name": "python3",
      "display_name": "Python 3"
    }
  },
  "cells": [
    {
      "cell_type": "markdown",
      "metadata": {
        "id": "view-in-github",
        "colab_type": "text"
      },
      "source": [
        "<a href=\"https://colab.research.google.com/github/matapro/python/blob/master/ORD_SUMA.ipynb\" target=\"_parent\"><img src=\"https://colab.research.google.com/assets/colab-badge.svg\" alt=\"Open In Colab\"/></a>"
      ]
    },
    {
      "metadata": {
        "id": "0QBw5nHfZdiq",
        "colab_type": "code",
        "colab": {
          "base_uri": "https://localhost:8080/",
          "height": 1241
        },
        "outputId": "7f36a9f4-f7e2-48e3-de88-e401c4c220c2"
      },
      "cell_type": "code",
      "source": [
        "z=0\n",
        "s = \"mata je dobro napravio ovaj zadatak\"\n",
        "l=list(s)\n",
        "print(l)\n",
        "for x in l:\n",
        "  print(x)\n",
        "  print(ord(x))\n",
        "  z=z+ord(x)\n",
        "  \n",
        "  \n",
        "  \n",
        "print('suma',z)\n",
        " \n",
        "\n",
        "  \n",
        "      "
      ],
      "execution_count": 24,
      "outputs": [
        {
          "output_type": "stream",
          "text": [
            "['m', 'a', 't', 'a', ' ', 'j', 'e', ' ', 'd', 'o', 'b', 'r', 'o', ' ', 'n', 'a', 'p', 'r', 'a', 'v', 'i', 'o', ' ', 'o', 'v', 'a', 'j', ' ', 'z', 'a', 'd', 'a', 't', 'a', 'k']\n",
            "m\n",
            "109\n",
            "a\n",
            "97\n",
            "t\n",
            "116\n",
            "a\n",
            "97\n",
            " \n",
            "32\n",
            "j\n",
            "106\n",
            "e\n",
            "101\n",
            " \n",
            "32\n",
            "d\n",
            "100\n",
            "o\n",
            "111\n",
            "b\n",
            "98\n",
            "r\n",
            "114\n",
            "o\n",
            "111\n",
            " \n",
            "32\n",
            "n\n",
            "110\n",
            "a\n",
            "97\n",
            "p\n",
            "112\n",
            "r\n",
            "114\n",
            "a\n",
            "97\n",
            "v\n",
            "118\n",
            "i\n",
            "105\n",
            "o\n",
            "111\n",
            " \n",
            "32\n",
            "o\n",
            "111\n",
            "v\n",
            "118\n",
            "a\n",
            "97\n",
            "j\n",
            "106\n",
            " \n",
            "32\n",
            "z\n",
            "122\n",
            "a\n",
            "97\n",
            "d\n",
            "100\n",
            "a\n",
            "97\n",
            "t\n",
            "116\n",
            "a\n",
            "97\n",
            "k\n",
            "107\n",
            "suma 3352\n"
          ],
          "name": "stdout"
        }
      ]
    },
    {
      "metadata": {
        "id": "9SfVjCm5dfyY",
        "colab_type": "code",
        "colab": {}
      },
      "cell_type": "code",
      "source": [
        ""
      ],
      "execution_count": 0,
      "outputs": []
    }
  ]
}