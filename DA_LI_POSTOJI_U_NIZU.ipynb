{
  "nbformat": 4,
  "nbformat_minor": 0,
  "metadata": {
    "colab": {
      "name": "DA LI POSTOJI U NIZU",
      "version": "0.3.2",
      "provenance": [],
      "collapsed_sections": [],
      "include_colab_link": true
    },
    "kernelspec": {
      "name": "python2",
      "display_name": "Python 2"
    }
  },
  "cells": [
    {
      "cell_type": "markdown",
      "metadata": {
        "id": "view-in-github",
        "colab_type": "text"
      },
      "source": [
        "<a href=\"https://colab.research.google.com/github/matapro/python/blob/master/DA_LI_POSTOJI_U_NIZU.ipynb\" target=\"_parent\"><img src=\"https://colab.research.google.com/assets/colab-badge.svg\" alt=\"Open In Colab\"/></a>"
      ]
    },
    {
      "metadata": {
        "id": "0NvCfzT1bU8R",
        "colab_type": "code",
        "outputId": "6b5952b9-c146-4d00-83e2-82cb0b917e58",
        "colab": {
          "base_uri": "https://localhost:8080/",
          "height": 68
        }
      },
      "cell_type": "code",
      "source": [
        "l=range(20)\n",
        "print l\n",
        "print type(l)\n",
        "\n",
        "#uzima niz x i proverava da li je b u nizu\n",
        "def isp(x,b):\n",
        "  if(b in x):\n",
        "    return True\n",
        "  else:\n",
        "    return False\n",
        "  \n",
        "  \n",
        "  \n",
        "print isp(l,10)\n",
        "  \n",
        "  \n",
        "  \n",
        " \n",
        "\n",
        "  "
      ],
      "execution_count": 6,
      "outputs": [
        {
          "output_type": "stream",
          "text": [
            "[0, 1, 2, 3, 4, 5, 6, 7, 8, 9, 10, 11, 12, 13, 14, 15, 16, 17, 18, 19]\n",
            "<type 'list'>\n",
            "True\n"
          ],
          "name": "stdout"
        }
      ]
    }
  ]
}