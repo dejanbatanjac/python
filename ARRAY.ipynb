{
  "nbformat": 4,
  "nbformat_minor": 0,
  "metadata": {
    "colab": {
      "name": "ARRAY",
      "version": "0.3.2",
      "provenance": [],
      "collapsed_sections": [],
      "include_colab_link": true
    },
    "kernelspec": {
      "name": "python3",
      "display_name": "Python 3"
    }
  },
  "cells": [
    {
      "cell_type": "markdown",
      "metadata": {
        "id": "view-in-github",
        "colab_type": "text"
      },
      "source": [
        "<a href=\"https://colab.research.google.com/github/matapro/python/blob/master/ARRAY.ipynb\" target=\"_parent\"><img src=\"https://colab.research.google.com/assets/colab-badge.svg\" alt=\"Open In Colab\"/></a>"
      ]
    },
    {
      "metadata": {
        "id": "SCUNUP0jeUvh",
        "colab_type": "code",
        "colab": {
          "base_uri": "https://localhost:8080/",
          "height": 34
        },
        "outputId": "cca035e3-1323-4285-fd88-fdf42863aab2"
      },
      "cell_type": "code",
      "source": [
        "#There's no way to say in Python \"this variable should never refer to anything other than a list\".\n",
        "\n",
        "\n",
        "a1 = [3,4,5]\n",
        "a2 = [3,4,5]\n",
        "def z(a1,a2):\n",
        "  r=list()\n",
        "  for x in a1:\n",
        "    if(x in a2):\n",
        "      r.append(x)\n",
        "  return(r)\n",
        "\n",
        "r=z(a1,a2)\n",
        "print(r)\n",
        "\n",
        "\n",
        "\n",
        "\n",
        "\n",
        "\n"
      ],
      "execution_count": 13,
      "outputs": [
        {
          "output_type": "stream",
          "text": [
            "[3, 4, 5]\n"
          ],
          "name": "stdout"
        }
      ]
    }
  ]
}