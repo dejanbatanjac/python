{
  "nbformat": 4,
  "nbformat_minor": 0,
  "metadata": {
    "colab": {
      "name": "5",
      "version": "0.3.2",
      "provenance": [],
      "include_colab_link": true
    },
    "kernelspec": {
      "name": "python3",
      "display_name": "Python 3"
    }
  },
  "cells": [
    {
      "cell_type": "markdown",
      "metadata": {
        "id": "view-in-github",
        "colab_type": "text"
      },
      "source": [
        "<a href=\"https://colab.research.google.com/github/matapro/python/blob/master/5.ipynb\" target=\"_parent\"><img src=\"https://colab.research.google.com/assets/colab-badge.svg\" alt=\"Open In Colab\"/></a>"
      ]
    },
    {
      "metadata": {
        "id": "L2Ss_AIgyUF3",
        "colab_type": "code",
        "colab": {
          "base_uri": "https://localhost:8080/",
          "height": 370
        },
        "outputId": "115d7d3e-9085-46a2-82bf-9db18973c322"
      },
      "cell_type": "code",
      "source": [
        "for i in range (0,6):\n",
        "  for j in range (0,6):\n",
        "    for k in range (0,6):\n",
        "      if (i+j+k==5):\n",
        "        print(i,j,k)            \n",
        "        \n",
        "    "
      ],
      "execution_count": 9,
      "outputs": [
        {
          "output_type": "stream",
          "text": [
            "0 0 5\n",
            "0 1 4\n",
            "0 2 3\n",
            "0 3 2\n",
            "0 4 1\n",
            "0 5 0\n",
            "1 0 4\n",
            "1 1 3\n",
            "1 2 2\n",
            "1 3 1\n",
            "1 4 0\n",
            "2 0 3\n",
            "2 1 2\n",
            "2 2 1\n",
            "2 3 0\n",
            "3 0 2\n",
            "3 1 1\n",
            "3 2 0\n",
            "4 0 1\n",
            "4 1 0\n",
            "5 0 0\n"
          ],
          "name": "stdout"
        }
      ]
    },
    {
      "metadata": {
        "id": "fHKW1QVLTlco",
        "colab_type": "code",
        "colab": {
          "base_uri": "https://localhost:8080/",
          "height": 168
        },
        "outputId": "6ed354cb-dbf0-41dc-b8ab-79b64776f933"
      },
      "cell_type": "code",
      "source": [
        "a = set([0, 2, 3, 4, 5])\n",
        "for i in a:\n",
        "  for j in a:\n",
        "    for k in a:\n",
        "      if (i+j+k==5):\n",
        "        print(i,j,k) \n",
        " \n",
        "  "
      ],
      "execution_count": 12,
      "outputs": [
        {
          "output_type": "stream",
          "text": [
            "0 0 5\n",
            "0 2 3\n",
            "0 3 2\n",
            "0 5 0\n",
            "2 0 3\n",
            "2 3 0\n",
            "3 0 2\n",
            "3 2 0\n",
            "5 0 0\n"
          ],
          "name": "stdout"
        }
      ]
    }
  ]
}