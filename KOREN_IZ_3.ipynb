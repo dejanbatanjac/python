{
  "nbformat": 4,
  "nbformat_minor": 0,
  "metadata": {
    "colab": {
      "name": "KOREN IZ 3",
      "version": "0.3.2",
      "provenance": [],
      "collapsed_sections": [],
      "include_colab_link": true
    },
    "kernelspec": {
      "name": "python3",
      "display_name": "Python 3"
    }
  },
  "cells": [
    {
      "cell_type": "markdown",
      "metadata": {
        "id": "view-in-github",
        "colab_type": "text"
      },
      "source": [
        "<a href=\"https://colab.research.google.com/github/matapro/python/blob/master/KOREN_IZ_3.ipynb\" target=\"_parent\"><img src=\"https://colab.research.google.com/assets/colab-badge.svg\" alt=\"Open In Colab\"/></a>"
      ]
    },
    {
      "metadata": {
        "id": "HfmUJczMn9V7",
        "colab_type": "code",
        "colab": {
          "base_uri": "https://localhost:8080/",
          "height": 34
        },
        "outputId": "bd4b4f67-93b4-4d88-aa07-d828f3303e9b"
      },
      "cell_type": "code",
      "source": [
        "import numpy\n",
        "from decimal import Decimal\n",
        "def koren3(i):\n",
        "  if (i==0):\n",
        "    a=2\n",
        "    b=1\n",
        "    return (a,b)\n",
        "  if (i>=1):\n",
        "    (a,b)=koren3(i-1)\n",
        "    (a,b)=(a+a+b+b+b,a+b+b)\n",
        "    return (a,b)\n",
        "  \n",
        "  \n",
        "  \n",
        "\n",
        "#1.73205080756887729352744634150587236694280525381038062805580\n",
        "x,y=koren3(30)\n",
        "x/y\n",
        "Decimal(x/y)"
      ],
      "execution_count": 32,
      "outputs": [
        {
          "output_type": "execute_result",
          "data": {
            "text/plain": [
              "Decimal('1.732050807568877193176604123436845839023590087890625')"
            ]
          },
          "metadata": {
            "tags": []
          },
          "execution_count": 32
        }
      ]
    }
  ]
}