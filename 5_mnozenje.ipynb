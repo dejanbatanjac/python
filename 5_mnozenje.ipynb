{
  "nbformat": 4,
  "nbformat_minor": 0,
  "metadata": {
    "colab": {
      "name": "5 mnozenje",
      "version": "0.3.2",
      "provenance": [],
      "include_colab_link": true
    },
    "kernelspec": {
      "name": "python3",
      "display_name": "Python 3"
    }
  },
  "cells": [
    {
      "cell_type": "markdown",
      "metadata": {
        "id": "view-in-github",
        "colab_type": "text"
      },
      "source": [
        "<a href=\"https://colab.research.google.com/github/matapro/python/blob/master/5_mnozenje.ipynb\" target=\"_parent\"><img src=\"https://colab.research.google.com/assets/colab-badge.svg\" alt=\"Open In Colab\"/></a>"
      ]
    },
    {
      "metadata": {
        "id": "exeXWDnLOHqg",
        "colab_type": "code",
        "colab": {
          "base_uri": "https://localhost:8080/",
          "height": 571
        },
        "outputId": "dbc33498-e3a2-4753-a129-92b30ae1137b"
      },
      "cell_type": "code",
      "source": [
        "for i in range (0,100):\n",
        "  for j in range (0,100):\n",
        "    for k in range (0,100):\n",
        "      if (i*j*k==100):\n",
        "        print(i,j,k)            "
      ],
      "execution_count": 1,
      "outputs": [
        {
          "output_type": "stream",
          "text": [
            "1 2 50\n",
            "1 4 25\n",
            "1 5 20\n",
            "1 10 10\n",
            "1 20 5\n",
            "1 25 4\n",
            "1 50 2\n",
            "2 1 50\n",
            "2 2 25\n",
            "2 5 10\n",
            "2 10 5\n",
            "2 25 2\n",
            "2 50 1\n",
            "4 1 25\n",
            "4 5 5\n",
            "4 25 1\n",
            "5 1 20\n",
            "5 2 10\n",
            "5 4 5\n",
            "5 5 4\n",
            "5 10 2\n",
            "5 20 1\n",
            "10 1 10\n",
            "10 2 5\n",
            "10 5 2\n",
            "10 10 1\n",
            "20 1 5\n",
            "20 5 1\n",
            "25 1 4\n",
            "25 2 2\n",
            "25 4 1\n",
            "50 1 2\n",
            "50 2 1\n"
          ],
          "name": "stdout"
        }
      ]
    }
  ]
}