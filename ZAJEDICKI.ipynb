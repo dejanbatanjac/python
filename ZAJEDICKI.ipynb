{
  "nbformat": 4,
  "nbformat_minor": 0,
  "metadata": {
    "colab": {
      "name": "ZAJEDICKI",
      "version": "0.3.2",
      "provenance": [],
      "collapsed_sections": [],
      "include_colab_link": true
    },
    "kernelspec": {
      "name": "python3",
      "display_name": "Python 3"
    }
  },
  "cells": [
    {
      "cell_type": "markdown",
      "metadata": {
        "id": "view-in-github",
        "colab_type": "text"
      },
      "source": [
        "<a href=\"https://colab.research.google.com/github/matapro/python/blob/master/ZAJEDICKI.ipynb\" target=\"_parent\"><img src=\"https://colab.research.google.com/assets/colab-badge.svg\" alt=\"Open In Colab\"/></a>"
      ]
    },
    {
      "metadata": {
        "id": "yrezLWT0BYh5",
        "colab_type": "code",
        "colab": {
          "base_uri": "https://localhost:8080/",
          "height": 34
        },
        "outputId": "6455f1ca-972d-4a3c-bebf-1a6c895834bb"
      },
      "cell_type": "code",
      "source": [
        "l1=(1,2,3,4,5,6)\n",
        "l2=(3,4,5)\n",
        "def z(l1,l2):\n",
        "  r=list()\n",
        "  for x in l1:\n",
        "    if(x in l2):\n",
        "      r.append(x)\n",
        "  return(r)\n",
        "\n",
        "r=z(l1,l2)\n",
        "print(r)"
      ],
      "execution_count": 12,
      "outputs": [
        {
          "output_type": "stream",
          "text": [
            "[3, 4, 5]\n"
          ],
          "name": "stdout"
        }
      ]
    },
    {
      "metadata": {
        "id": "WOoR37YeGwHI",
        "colab_type": "code",
        "colab": {
          "base_uri": "https://localhost:8080/",
          "height": 34
        },
        "outputId": "9961157a-dae8-4b91-df3c-ad9fe8891b82"
      },
      "cell_type": "code",
      "source": [
        "l1 = [1,2,3]\n",
        "l2 = [3,4,5]\n",
        "r = set(l1) & set(l2)\n",
        "print(r)"
      ],
      "execution_count": 4,
      "outputs": [
        {
          "output_type": "stream",
          "text": [
            "{3}\n"
          ],
          "name": "stdout"
        }
      ]
    }
  ]
}