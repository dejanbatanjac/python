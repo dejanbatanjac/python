{
  "nbformat": 4,
  "nbformat_minor": 0,
  "metadata": {
    "colab": {
      "name": "Zlatan sam",
      "version": "0.3.2",
      "provenance": [],
      "collapsed_sections": [],
      "include_colab_link": true
    },
    "kernelspec": {
      "name": "python3",
      "display_name": "Python 3"
    }
  },
  "cells": [
    {
      "cell_type": "markdown",
      "metadata": {
        "id": "view-in-github",
        "colab_type": "text"
      },
      "source": [
        "<a href=\"https://colab.research.google.com/github/matapro/python/blob/master/Zlatan_sam.ipynb\" target=\"_parent\"><img src=\"https://colab.research.google.com/assets/colab-badge.svg\" alt=\"Open In Colab\"/></a>"
      ]
    },
    {
      "metadata": {
        "id": "GwozH7pbt6R0",
        "colab_type": "code",
        "colab": {
          "base_uri": "https://localhost:8080/",
          "height": 67
        },
        "outputId": "767e165d-3bb8-48b1-9664-2cde72361602"
      },
      "cell_type": "code",
      "source": [
        "def zlato(i):\n",
        "  if (i==0):\n",
        "    a=1\n",
        "    return (a)\n",
        "  if (i==1):\n",
        "    a=1\n",
        "    return (a)\n",
        "  if (i>=2):\n",
        "    a=zlato(i-1)+zlato(i-2)\n",
        "    return (a)\n",
        "\n",
        "print(zlato(6))\n",
        "print(zlato(5))\n",
        "print(zlato(4))"
      ],
      "execution_count": 11,
      "outputs": [
        {
          "output_type": "stream",
          "text": [
            "13\n",
            "8\n",
            "5\n"
          ],
          "name": "stdout"
        }
      ]
    },
    {
      "metadata": {
        "id": "EQPRTktJznSi",
        "colab_type": "code",
        "colab": {}
      },
      "cell_type": "code",
      "source": [
        ""
      ],
      "execution_count": 0,
      "outputs": []
    }
  ]
}