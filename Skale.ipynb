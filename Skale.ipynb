{
  "nbformat": 4,
  "nbformat_minor": 0,
  "metadata": {
    "colab": {
      "name": "Skale",
      "version": "0.3.2",
      "provenance": [],
      "collapsed_sections": [],
      "include_colab_link": true
    },
    "kernelspec": {
      "name": "python3",
      "display_name": "Python 3"
    }
  },
  "cells": [
    {
      "cell_type": "markdown",
      "metadata": {
        "id": "view-in-github",
        "colab_type": "text"
      },
      "source": [
        "<a href=\"https://colab.research.google.com/github/matapro/python/blob/master/Skale.ipynb\" target=\"_parent\"><img src=\"https://colab.research.google.com/assets/colab-badge.svg\" alt=\"Open In Colab\"/></a>"
      ]
    },
    {
      "metadata": {
        "id": "KTG89yC4uFRV",
        "colab_type": "code",
        "outputId": "dab96ee3-a7c6-4aa2-e21a-c40d427450e9",
        "colab": {
          "base_uri": "https://localhost:8080/",
          "height": 34
        }
      },
      "cell_type": "code",
      "source": [
        "def disk(n):\n",
        "  if (n==1):\n",
        "    return 1\n",
        "  if (n==2):\n",
        "    return 2*disk(1)+1\n",
        "  if (n==3):\n",
        "    return 2*disk(2)+1\n",
        "  if (n==4):\n",
        "    return 2*disk(3)+1\n",
        "  if (n==5):\n",
        "    return 2*disk(4)+1\n",
        "\n",
        "disk(5)\n"
      ],
      "execution_count": 0,
      "outputs": [
        {
          "output_type": "execute_result",
          "data": {
            "text/plain": [
              "31"
            ]
          },
          "metadata": {
            "tags": []
          },
          "execution_count": 3
        }
      ]
    },
    {
      "metadata": {
        "id": "FOyIgAxGb43l",
        "colab_type": "code",
        "colab": {
          "base_uri": "https://localhost:8080/",
          "height": 34
        },
        "outputId": "62f22a9d-1eb2-4b4c-a46d-2870eb09db9d"
      },
      "cell_type": "code",
      "source": [
        "def disk(n):\n",
        "  if (n==1):\n",
        "    return 1\n",
        "  if (n>1):\n",
        "    return 2*disk(n-1)+1\n",
        "\n",
        "disk(5)\n"
      ],
      "execution_count": 4,
      "outputs": [
        {
          "output_type": "execute_result",
          "data": {
            "text/plain": [
              "31"
            ]
          },
          "metadata": {
            "tags": []
          },
          "execution_count": 4
        }
      ]
    }
  ]
}