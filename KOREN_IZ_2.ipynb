{
  "nbformat": 4,
  "nbformat_minor": 0,
  "metadata": {
    "colab": {
      "name": "KOREN IZ 2",
      "version": "0.3.2",
      "provenance": [],
      "collapsed_sections": [],
      "include_colab_link": true
    },
    "kernelspec": {
      "name": "python3",
      "display_name": "Python 3"
    }
  },
  "cells": [
    {
      "cell_type": "markdown",
      "metadata": {
        "id": "view-in-github",
        "colab_type": "text"
      },
      "source": [
        "<a href=\"https://colab.research.google.com/github/matapro/python/blob/master/KOREN_IZ_2.ipynb\" target=\"_parent\"><img src=\"https://colab.research.google.com/assets/colab-badge.svg\" alt=\"Open In Colab\"/></a>"
      ]
    },
    {
      "metadata": {
        "id": "J0gUazSSCuw2",
        "colab_type": "code",
        "colab": {
          "base_uri": "https://localhost:8080/",
          "height": 34
        },
        "outputId": "6ef845d3-4f02-43b9-bc09-42ddb8ac4269"
      },
      "cell_type": "code",
      "source": [
        "def koren2(i):\n",
        "  if (i==0):\n",
        "    a=1\n",
        "    b=1\n",
        "    return (a,b)\n",
        "  if (i==1):\n",
        "    (a,b)=koren2(0)\n",
        "    b=a+b\n",
        "    a=a+b\n",
        "    return (a,b)\n",
        "  if (i==2):\n",
        "    (a,b)=koren2(1)\n",
        "    (a,b)=(a+2*b,a+b)\n",
        "    return (a,b)\n",
        "k=koren2 (2)  \n",
        "k\n"
      ],
      "execution_count": 18,
      "outputs": [
        {
          "output_type": "execute_result",
          "data": {
            "text/plain": [
              "(7, 5)"
            ]
          },
          "metadata": {
            "tags": []
          },
          "execution_count": 18
        }
      ]
    },
    {
      "metadata": {
        "id": "4RC6_iJHNA9i",
        "colab_type": "code",
        "colab": {
          "base_uri": "https://localhost:8080/",
          "height": 34
        },
        "outputId": "bc7c21d6-df33-409c-8f28-11a7f1fe6659"
      },
      "cell_type": "code",
      "source": [
        "def koren2(i):\n",
        "  if (i==0):\n",
        "    a=1\n",
        "    b=1\n",
        "    return (a,b)\n",
        "  if (i>=1):\n",
        "    (a,b)=koren2(i-1)\n",
        "    (a,b)=(a+2*b,a+b)\n",
        "    return (a,b)\n",
        "  \n",
        "  \n",
        "  \n",
        "  \n",
        "  \n",
        "k=koren2 (21)  \n",
        "k[0]/k[1], k[0], k[1]\n",
        "\n"
      ],
      "execution_count": 40,
      "outputs": [
        {
          "output_type": "execute_result",
          "data": {
            "text/plain": [
              "(1.4142135623730951, 131836323, 93222358)"
            ]
          },
          "metadata": {
            "tags": []
          },
          "execution_count": 40
        }
      ]
    },
    {
      "metadata": {
        "id": "_LhdS-NBOCQ6",
        "colab_type": "code",
        "colab": {
          "base_uri": "https://localhost:8080/",
          "height": 34
        },
        "outputId": "7901387f-fa26-414c-acc2-765d5b52e879"
      },
      "cell_type": "code",
      "source": [
        "\n",
        "import math\n",
        "math.sqrt (2)"
      ],
      "execution_count": 30,
      "outputs": [
        {
          "output_type": "execute_result",
          "data": {
            "text/plain": [
              "1.4142135623730951"
            ]
          },
          "metadata": {
            "tags": []
          },
          "execution_count": 30
        }
      ]
    }
  ]
}